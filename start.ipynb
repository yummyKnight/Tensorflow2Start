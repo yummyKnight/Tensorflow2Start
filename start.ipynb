{
 "cells": [
  {
   "cell_type": "markdown",
   "source": [
    "My some early experiments with TF2 (tf.function, tensors, linear regression implementation etc )(from TF tutorials)"
   ],
   "metadata": {
    "collapsed": false
   }
  },
  {
   "cell_type": "code",
   "execution_count": 1,
   "metadata": {
    "collapsed": true
   },
   "outputs": [
    {
     "ename": "KeyboardInterrupt",
     "evalue": "",
     "output_type": "error",
     "traceback": [
      "\u001B[1;31m---------------------------------------------------------------------------\u001B[0m",
      "\u001B[1;31mKeyboardInterrupt\u001B[0m                         Traceback (most recent call last)",
      "\u001B[1;32m<ipython-input-1-1cf9afb0d89e>\u001B[0m in \u001B[0;36m<module>\u001B[1;34m\u001B[0m\n\u001B[1;32m----> 1\u001B[1;33m \u001B[1;32mimport\u001B[0m \u001B[0mtensorflow\u001B[0m \u001B[1;32mas\u001B[0m \u001B[0mtf\u001B[0m\u001B[1;33m\u001B[0m\u001B[1;33m\u001B[0m\u001B[0m\n\u001B[0m\u001B[0;32m      2\u001B[0m \u001B[1;32mimport\u001B[0m \u001B[0mos\u001B[0m\u001B[1;33m\u001B[0m\u001B[1;33m\u001B[0m\u001B[0m\n\u001B[0;32m      3\u001B[0m \u001B[1;32mimport\u001B[0m \u001B[0mcProfile\u001B[0m\u001B[1;33m\u001B[0m\u001B[1;33m\u001B[0m\u001B[0m\n\u001B[0;32m      4\u001B[0m \u001B[1;32mimport\u001B[0m \u001B[0mnumpy\u001B[0m \u001B[1;32mas\u001B[0m \u001B[0mnp\u001B[0m\u001B[1;33m\u001B[0m\u001B[1;33m\u001B[0m\u001B[0m\n\u001B[0;32m      5\u001B[0m \u001B[1;32mimport\u001B[0m \u001B[0mmatplotlib\u001B[0m\u001B[1;33m.\u001B[0m\u001B[0mpyplot\u001B[0m \u001B[1;32mas\u001B[0m \u001B[0mplt\u001B[0m\u001B[1;33m\u001B[0m\u001B[1;33m\u001B[0m\u001B[0m\n",
      "\u001B[1;32mH:\\Games\\Work\\Anaconda\\envs\\MLEnvPython38\\lib\\site-packages\\tensorflow\\__init__.py\u001B[0m in \u001B[0;36m<module>\u001B[1;34m\u001B[0m\n\u001B[0;32m     39\u001B[0m \u001B[1;32mimport\u001B[0m \u001B[0msys\u001B[0m \u001B[1;32mas\u001B[0m \u001B[0m_sys\u001B[0m\u001B[1;33m\u001B[0m\u001B[1;33m\u001B[0m\u001B[0m\n\u001B[0;32m     40\u001B[0m \u001B[1;33m\u001B[0m\u001B[0m\n\u001B[1;32m---> 41\u001B[1;33m \u001B[1;32mfrom\u001B[0m \u001B[0mtensorflow\u001B[0m\u001B[1;33m.\u001B[0m\u001B[0mpython\u001B[0m\u001B[1;33m.\u001B[0m\u001B[0mtools\u001B[0m \u001B[1;32mimport\u001B[0m \u001B[0mmodule_util\u001B[0m \u001B[1;32mas\u001B[0m \u001B[0m_module_util\u001B[0m\u001B[1;33m\u001B[0m\u001B[1;33m\u001B[0m\u001B[0m\n\u001B[0m\u001B[0;32m     42\u001B[0m \u001B[1;32mfrom\u001B[0m \u001B[0mtensorflow\u001B[0m\u001B[1;33m.\u001B[0m\u001B[0mpython\u001B[0m\u001B[1;33m.\u001B[0m\u001B[0mutil\u001B[0m\u001B[1;33m.\u001B[0m\u001B[0mlazy_loader\u001B[0m \u001B[1;32mimport\u001B[0m \u001B[0mLazyLoader\u001B[0m \u001B[1;32mas\u001B[0m \u001B[0m_LazyLoader\u001B[0m\u001B[1;33m\u001B[0m\u001B[1;33m\u001B[0m\u001B[0m\n\u001B[0;32m     43\u001B[0m \u001B[1;33m\u001B[0m\u001B[0m\n",
      "\u001B[1;32mH:\\Games\\Work\\Anaconda\\envs\\MLEnvPython38\\lib\\site-packages\\tensorflow\\python\\__init__.py\u001B[0m in \u001B[0;36m<module>\u001B[1;34m\u001B[0m\n\u001B[0;32m     45\u001B[0m \u001B[1;32mfrom\u001B[0m \u001B[0mtensorflow\u001B[0m\u001B[1;33m.\u001B[0m\u001B[0mpython\u001B[0m \u001B[1;32mimport\u001B[0m \u001B[0mdata\u001B[0m\u001B[1;33m\u001B[0m\u001B[1;33m\u001B[0m\u001B[0m\n\u001B[0;32m     46\u001B[0m \u001B[1;32mfrom\u001B[0m \u001B[0mtensorflow\u001B[0m\u001B[1;33m.\u001B[0m\u001B[0mpython\u001B[0m \u001B[1;32mimport\u001B[0m \u001B[0mdistribute\u001B[0m\u001B[1;33m\u001B[0m\u001B[1;33m\u001B[0m\u001B[0m\n\u001B[1;32m---> 47\u001B[1;33m \u001B[1;32mfrom\u001B[0m \u001B[0mtensorflow\u001B[0m\u001B[1;33m.\u001B[0m\u001B[0mpython\u001B[0m \u001B[1;32mimport\u001B[0m \u001B[0mkeras\u001B[0m\u001B[1;33m\u001B[0m\u001B[1;33m\u001B[0m\u001B[0m\n\u001B[0m\u001B[0;32m     48\u001B[0m \u001B[1;32mfrom\u001B[0m \u001B[0mtensorflow\u001B[0m\u001B[1;33m.\u001B[0m\u001B[0mpython\u001B[0m\u001B[1;33m.\u001B[0m\u001B[0mfeature_column\u001B[0m \u001B[1;32mimport\u001B[0m \u001B[0mfeature_column_lib\u001B[0m \u001B[1;32mas\u001B[0m \u001B[0mfeature_column\u001B[0m\u001B[1;33m\u001B[0m\u001B[1;33m\u001B[0m\u001B[0m\n\u001B[0;32m     49\u001B[0m \u001B[1;32mfrom\u001B[0m \u001B[0mtensorflow\u001B[0m\u001B[1;33m.\u001B[0m\u001B[0mpython\u001B[0m\u001B[1;33m.\u001B[0m\u001B[0mlayers\u001B[0m \u001B[1;32mimport\u001B[0m \u001B[0mlayers\u001B[0m\u001B[1;33m\u001B[0m\u001B[1;33m\u001B[0m\u001B[0m\n",
      "\u001B[1;32mH:\\Games\\Work\\Anaconda\\envs\\MLEnvPython38\\lib\\site-packages\\tensorflow\\python\\keras\\__init__.py\u001B[0m in \u001B[0;36m<module>\u001B[1;34m\u001B[0m\n\u001B[0;32m     25\u001B[0m \u001B[1;33m\u001B[0m\u001B[0m\n\u001B[0;32m     26\u001B[0m \u001B[1;31m# See b/110718070#comment18 for more details about this import.\u001B[0m\u001B[1;33m\u001B[0m\u001B[1;33m\u001B[0m\u001B[1;33m\u001B[0m\u001B[0m\n\u001B[1;32m---> 27\u001B[1;33m \u001B[1;32mfrom\u001B[0m \u001B[0mtensorflow\u001B[0m\u001B[1;33m.\u001B[0m\u001B[0mpython\u001B[0m\u001B[1;33m.\u001B[0m\u001B[0mkeras\u001B[0m \u001B[1;32mimport\u001B[0m \u001B[0mmodels\u001B[0m\u001B[1;33m\u001B[0m\u001B[1;33m\u001B[0m\u001B[0m\n\u001B[0m\u001B[0;32m     28\u001B[0m \u001B[1;33m\u001B[0m\u001B[0m\n\u001B[0;32m     29\u001B[0m \u001B[1;32mfrom\u001B[0m \u001B[0mtensorflow\u001B[0m\u001B[1;33m.\u001B[0m\u001B[0mpython\u001B[0m\u001B[1;33m.\u001B[0m\u001B[0mkeras\u001B[0m\u001B[1;33m.\u001B[0m\u001B[0mengine\u001B[0m\u001B[1;33m.\u001B[0m\u001B[0minput_layer\u001B[0m \u001B[1;32mimport\u001B[0m \u001B[0mInput\u001B[0m\u001B[1;33m\u001B[0m\u001B[1;33m\u001B[0m\u001B[0m\n",
      "\u001B[1;32mH:\\Games\\Work\\Anaconda\\envs\\MLEnvPython38\\lib\\site-packages\\tensorflow\\python\\keras\\models.py\u001B[0m in \u001B[0;36m<module>\u001B[1;34m\u001B[0m\n\u001B[0;32m     24\u001B[0m \u001B[1;32mfrom\u001B[0m \u001B[0mtensorflow\u001B[0m\u001B[1;33m.\u001B[0m\u001B[0mpython\u001B[0m\u001B[1;33m.\u001B[0m\u001B[0mkeras\u001B[0m \u001B[1;32mimport\u001B[0m \u001B[0mmetrics\u001B[0m \u001B[1;32mas\u001B[0m \u001B[0mmetrics_module\u001B[0m\u001B[1;33m\u001B[0m\u001B[1;33m\u001B[0m\u001B[0m\n\u001B[0;32m     25\u001B[0m \u001B[1;32mfrom\u001B[0m \u001B[0mtensorflow\u001B[0m\u001B[1;33m.\u001B[0m\u001B[0mpython\u001B[0m\u001B[1;33m.\u001B[0m\u001B[0mkeras\u001B[0m \u001B[1;32mimport\u001B[0m \u001B[0moptimizers\u001B[0m\u001B[1;33m\u001B[0m\u001B[1;33m\u001B[0m\u001B[0m\n\u001B[1;32m---> 26\u001B[1;33m \u001B[1;32mfrom\u001B[0m \u001B[0mtensorflow\u001B[0m\u001B[1;33m.\u001B[0m\u001B[0mpython\u001B[0m\u001B[1;33m.\u001B[0m\u001B[0mkeras\u001B[0m\u001B[1;33m.\u001B[0m\u001B[0mengine\u001B[0m \u001B[1;32mimport\u001B[0m \u001B[0mfunctional\u001B[0m\u001B[1;33m\u001B[0m\u001B[1;33m\u001B[0m\u001B[0m\n\u001B[0m\u001B[0;32m     27\u001B[0m \u001B[1;32mfrom\u001B[0m \u001B[0mtensorflow\u001B[0m\u001B[1;33m.\u001B[0m\u001B[0mpython\u001B[0m\u001B[1;33m.\u001B[0m\u001B[0mkeras\u001B[0m\u001B[1;33m.\u001B[0m\u001B[0mengine\u001B[0m \u001B[1;32mimport\u001B[0m \u001B[0msequential\u001B[0m\u001B[1;33m\u001B[0m\u001B[1;33m\u001B[0m\u001B[0m\n\u001B[0;32m     28\u001B[0m \u001B[1;32mfrom\u001B[0m \u001B[0mtensorflow\u001B[0m\u001B[1;33m.\u001B[0m\u001B[0mpython\u001B[0m\u001B[1;33m.\u001B[0m\u001B[0mkeras\u001B[0m\u001B[1;33m.\u001B[0m\u001B[0mengine\u001B[0m \u001B[1;32mimport\u001B[0m \u001B[0mtraining\u001B[0m\u001B[1;33m\u001B[0m\u001B[1;33m\u001B[0m\u001B[0m\n",
      "\u001B[1;32mH:\\Games\\Work\\Anaconda\\envs\\MLEnvPython38\\lib\\site-packages\\tensorflow\\python\\keras\\engine\\functional.py\u001B[0m in \u001B[0;36m<module>\u001B[1;34m\u001B[0m\n\u001B[0;32m     36\u001B[0m \u001B[1;32mfrom\u001B[0m \u001B[0mtensorflow\u001B[0m\u001B[1;33m.\u001B[0m\u001B[0mpython\u001B[0m\u001B[1;33m.\u001B[0m\u001B[0mkeras\u001B[0m\u001B[1;33m.\u001B[0m\u001B[0mengine\u001B[0m \u001B[1;32mimport\u001B[0m \u001B[0mkeras_tensor\u001B[0m\u001B[1;33m\u001B[0m\u001B[1;33m\u001B[0m\u001B[0m\n\u001B[0;32m     37\u001B[0m \u001B[1;32mfrom\u001B[0m \u001B[0mtensorflow\u001B[0m\u001B[1;33m.\u001B[0m\u001B[0mpython\u001B[0m\u001B[1;33m.\u001B[0m\u001B[0mkeras\u001B[0m\u001B[1;33m.\u001B[0m\u001B[0mengine\u001B[0m \u001B[1;32mimport\u001B[0m \u001B[0mnode\u001B[0m \u001B[1;32mas\u001B[0m \u001B[0mnode_module\u001B[0m\u001B[1;33m\u001B[0m\u001B[1;33m\u001B[0m\u001B[0m\n\u001B[1;32m---> 38\u001B[1;33m \u001B[1;32mfrom\u001B[0m \u001B[0mtensorflow\u001B[0m\u001B[1;33m.\u001B[0m\u001B[0mpython\u001B[0m\u001B[1;33m.\u001B[0m\u001B[0mkeras\u001B[0m\u001B[1;33m.\u001B[0m\u001B[0mengine\u001B[0m \u001B[1;32mimport\u001B[0m \u001B[0mtraining\u001B[0m \u001B[1;32mas\u001B[0m \u001B[0mtraining_lib\u001B[0m\u001B[1;33m\u001B[0m\u001B[1;33m\u001B[0m\u001B[0m\n\u001B[0m\u001B[0;32m     39\u001B[0m \u001B[1;32mfrom\u001B[0m \u001B[0mtensorflow\u001B[0m\u001B[1;33m.\u001B[0m\u001B[0mpython\u001B[0m\u001B[1;33m.\u001B[0m\u001B[0mkeras\u001B[0m\u001B[1;33m.\u001B[0m\u001B[0mengine\u001B[0m \u001B[1;32mimport\u001B[0m \u001B[0mtraining_utils\u001B[0m\u001B[1;33m\u001B[0m\u001B[1;33m\u001B[0m\u001B[0m\n\u001B[0;32m     40\u001B[0m \u001B[1;32mfrom\u001B[0m \u001B[0mtensorflow\u001B[0m\u001B[1;33m.\u001B[0m\u001B[0mpython\u001B[0m\u001B[1;33m.\u001B[0m\u001B[0mkeras\u001B[0m\u001B[1;33m.\u001B[0m\u001B[0msaving\u001B[0m\u001B[1;33m.\u001B[0m\u001B[0msaved_model\u001B[0m \u001B[1;32mimport\u001B[0m \u001B[0mnetwork_serialization\u001B[0m\u001B[1;33m\u001B[0m\u001B[1;33m\u001B[0m\u001B[0m\n",
      "\u001B[1;32mH:\\Games\\Work\\Anaconda\\envs\\MLEnvPython38\\lib\\site-packages\\tensorflow\\python\\keras\\engine\\training.py\u001B[0m in \u001B[0;36m<module>\u001B[1;34m\u001B[0m\n\u001B[0;32m     48\u001B[0m \u001B[1;32mfrom\u001B[0m \u001B[0mtensorflow\u001B[0m\u001B[1;33m.\u001B[0m\u001B[0mpython\u001B[0m\u001B[1;33m.\u001B[0m\u001B[0mkeras\u001B[0m\u001B[1;33m.\u001B[0m\u001B[0mengine\u001B[0m \u001B[1;32mimport\u001B[0m \u001B[0mbase_layer_utils\u001B[0m\u001B[1;33m\u001B[0m\u001B[1;33m\u001B[0m\u001B[0m\n\u001B[0;32m     49\u001B[0m \u001B[1;32mfrom\u001B[0m \u001B[0mtensorflow\u001B[0m\u001B[1;33m.\u001B[0m\u001B[0mpython\u001B[0m\u001B[1;33m.\u001B[0m\u001B[0mkeras\u001B[0m\u001B[1;33m.\u001B[0m\u001B[0mengine\u001B[0m \u001B[1;32mimport\u001B[0m \u001B[0mcompile_utils\u001B[0m\u001B[1;33m\u001B[0m\u001B[1;33m\u001B[0m\u001B[0m\n\u001B[1;32m---> 50\u001B[1;33m \u001B[1;32mfrom\u001B[0m \u001B[0mtensorflow\u001B[0m\u001B[1;33m.\u001B[0m\u001B[0mpython\u001B[0m\u001B[1;33m.\u001B[0m\u001B[0mkeras\u001B[0m\u001B[1;33m.\u001B[0m\u001B[0mengine\u001B[0m \u001B[1;32mimport\u001B[0m \u001B[0mdata_adapter\u001B[0m\u001B[1;33m\u001B[0m\u001B[1;33m\u001B[0m\u001B[0m\n\u001B[0m\u001B[0;32m     51\u001B[0m \u001B[1;32mfrom\u001B[0m \u001B[0mtensorflow\u001B[0m\u001B[1;33m.\u001B[0m\u001B[0mpython\u001B[0m\u001B[1;33m.\u001B[0m\u001B[0mkeras\u001B[0m\u001B[1;33m.\u001B[0m\u001B[0mengine\u001B[0m \u001B[1;32mimport\u001B[0m \u001B[0mtraining_utils\u001B[0m\u001B[1;33m\u001B[0m\u001B[1;33m\u001B[0m\u001B[0m\n\u001B[0;32m     52\u001B[0m \u001B[1;32mfrom\u001B[0m \u001B[0mtensorflow\u001B[0m\u001B[1;33m.\u001B[0m\u001B[0mpython\u001B[0m\u001B[1;33m.\u001B[0m\u001B[0mkeras\u001B[0m\u001B[1;33m.\u001B[0m\u001B[0mmixed_precision\u001B[0m\u001B[1;33m.\u001B[0m\u001B[0mexperimental\u001B[0m \u001B[1;32mimport\u001B[0m \u001B[0mloss_scale_optimizer\u001B[0m \u001B[1;32mas\u001B[0m \u001B[0mlso\u001B[0m\u001B[1;33m\u001B[0m\u001B[1;33m\u001B[0m\u001B[0m\n",
      "\u001B[1;32mH:\\Games\\Work\\Anaconda\\envs\\MLEnvPython38\\lib\\site-packages\\tensorflow\\python\\keras\\engine\\data_adapter.py\u001B[0m in \u001B[0;36m<module>\u001B[1;34m\u001B[0m\n\u001B[0;32m     54\u001B[0m \u001B[1;33m\u001B[0m\u001B[0m\n\u001B[0;32m     55\u001B[0m \u001B[1;32mtry\u001B[0m\u001B[1;33m:\u001B[0m\u001B[1;33m\u001B[0m\u001B[1;33m\u001B[0m\u001B[0m\n\u001B[1;32m---> 56\u001B[1;33m   \u001B[1;32mfrom\u001B[0m \u001B[0mscipy\u001B[0m \u001B[1;32mimport\u001B[0m \u001B[0msparse\u001B[0m \u001B[1;32mas\u001B[0m \u001B[0mscipy_sparse\u001B[0m  \u001B[1;31m# pylint: disable=g-import-not-at-top\u001B[0m\u001B[1;33m\u001B[0m\u001B[1;33m\u001B[0m\u001B[0m\n\u001B[0m\u001B[0;32m     57\u001B[0m \u001B[1;32mexcept\u001B[0m \u001B[0mImportError\u001B[0m\u001B[1;33m:\u001B[0m\u001B[1;33m\u001B[0m\u001B[1;33m\u001B[0m\u001B[0m\n\u001B[0;32m     58\u001B[0m   \u001B[0mscipy_sparse\u001B[0m \u001B[1;33m=\u001B[0m \u001B[1;32mNone\u001B[0m\u001B[1;33m\u001B[0m\u001B[1;33m\u001B[0m\u001B[0m\n",
      "\u001B[1;32mH:\\Games\\Work\\Anaconda\\envs\\MLEnvPython38\\lib\\site-packages\\scipy\\sparse\\__init__.py\u001B[0m in \u001B[0;36m<module>\u001B[1;34m\u001B[0m\n\u001B[0;32m    238\u001B[0m \u001B[1;33m\u001B[0m\u001B[0m\n\u001B[0;32m    239\u001B[0m \u001B[1;31m# For backward compatibility with v0.19.\u001B[0m\u001B[1;33m\u001B[0m\u001B[1;33m\u001B[0m\u001B[1;33m\u001B[0m\u001B[0m\n\u001B[1;32m--> 240\u001B[1;33m \u001B[1;32mfrom\u001B[0m \u001B[1;33m.\u001B[0m \u001B[1;32mimport\u001B[0m \u001B[0mcsgraph\u001B[0m\u001B[1;33m\u001B[0m\u001B[1;33m\u001B[0m\u001B[0m\n\u001B[0m\u001B[0;32m    241\u001B[0m \u001B[1;33m\u001B[0m\u001B[0m\n\u001B[0;32m    242\u001B[0m \u001B[0m__all__\u001B[0m \u001B[1;33m=\u001B[0m \u001B[1;33m[\u001B[0m\u001B[0ms\u001B[0m \u001B[1;32mfor\u001B[0m \u001B[0ms\u001B[0m \u001B[1;32min\u001B[0m \u001B[0mdir\u001B[0m\u001B[1;33m(\u001B[0m\u001B[1;33m)\u001B[0m \u001B[1;32mif\u001B[0m \u001B[1;32mnot\u001B[0m \u001B[0ms\u001B[0m\u001B[1;33m.\u001B[0m\u001B[0mstartswith\u001B[0m\u001B[1;33m(\u001B[0m\u001B[1;34m'_'\u001B[0m\u001B[1;33m)\u001B[0m\u001B[1;33m]\u001B[0m\u001B[1;33m\u001B[0m\u001B[1;33m\u001B[0m\u001B[0m\n",
      "\u001B[1;32mH:\\Games\\Work\\Anaconda\\envs\\MLEnvPython38\\lib\\site-packages\\scipy\\sparse\\csgraph\\__init__.py\u001B[0m in \u001B[0;36m<module>\u001B[1;34m\u001B[0m\n\u001B[0;32m    194\u001B[0m     \u001B[0mmaximum_bipartite_matching\u001B[0m\u001B[1;33m,\u001B[0m \u001B[0mmin_weight_full_bipartite_matching\u001B[0m\u001B[1;33m\u001B[0m\u001B[1;33m\u001B[0m\u001B[0m\n\u001B[0;32m    195\u001B[0m )\n\u001B[1;32m--> 196\u001B[1;33m \u001B[1;32mfrom\u001B[0m \u001B[1;33m.\u001B[0m\u001B[0m_reordering\u001B[0m \u001B[1;32mimport\u001B[0m \u001B[0mreverse_cuthill_mckee\u001B[0m\u001B[1;33m,\u001B[0m \u001B[0mstructural_rank\u001B[0m\u001B[1;33m\u001B[0m\u001B[1;33m\u001B[0m\u001B[0m\n\u001B[0m\u001B[0;32m    197\u001B[0m from ._tools import (\n\u001B[0;32m    198\u001B[0m     \u001B[0mconstruct_dist_matrix\u001B[0m\u001B[1;33m,\u001B[0m \u001B[0mreconstruct_path\u001B[0m\u001B[1;33m,\u001B[0m \u001B[0mcsgraph_from_dense\u001B[0m\u001B[1;33m,\u001B[0m\u001B[1;33m\u001B[0m\u001B[1;33m\u001B[0m\u001B[0m\n",
      "\u001B[1;32mH:\\Games\\Work\\Anaconda\\envs\\MLEnvPython38\\lib\\importlib\\_bootstrap.py\u001B[0m in \u001B[0;36m_find_and_load\u001B[1;34m(name, import_)\u001B[0m\n",
      "\u001B[1;32mH:\\Games\\Work\\Anaconda\\envs\\MLEnvPython38\\lib\\importlib\\_bootstrap.py\u001B[0m in \u001B[0;36m_find_and_load_unlocked\u001B[1;34m(name, import_)\u001B[0m\n",
      "\u001B[1;32mH:\\Games\\Work\\Anaconda\\envs\\MLEnvPython38\\lib\\importlib\\_bootstrap.py\u001B[0m in \u001B[0;36m_find_spec\u001B[1;34m(name, path, target)\u001B[0m\n",
      "\u001B[1;32mH:\\Games\\Work\\Anaconda\\envs\\MLEnvPython38\\lib\\importlib\\_bootstrap_external.py\u001B[0m in \u001B[0;36mfind_spec\u001B[1;34m(cls, fullname, path, target)\u001B[0m\n",
      "\u001B[1;32mH:\\Games\\Work\\Anaconda\\envs\\MLEnvPython38\\lib\\importlib\\_bootstrap_external.py\u001B[0m in \u001B[0;36m_get_spec\u001B[1;34m(cls, fullname, path, target)\u001B[0m\n",
      "\u001B[1;32mH:\\Games\\Work\\Anaconda\\envs\\MLEnvPython38\\lib\\importlib\\_bootstrap_external.py\u001B[0m in \u001B[0;36mfind_spec\u001B[1;34m(self, fullname, target)\u001B[0m\n",
      "\u001B[1;32mH:\\Games\\Work\\Anaconda\\envs\\MLEnvPython38\\lib\\importlib\\_bootstrap_external.py\u001B[0m in \u001B[0;36m_path_stat\u001B[1;34m(path)\u001B[0m\n",
      "\u001B[1;31mKeyboardInterrupt\u001B[0m: "
     ]
    }
   ],
   "source": [
    "import tensorflow as tf\n",
    "import numpy as np\n",
    "from tensorflow.keras.optimizers import SGD\n"
   ]
  },
  {
   "cell_type": "code",
   "execution_count": 31,
   "metadata": {
    "pycharm": {
     "name": "#%%\n"
    }
   },
   "outputs": [
    {
     "data": {
      "text/plain": "True"
     },
     "execution_count": 31,
     "metadata": {},
     "output_type": "execute_result"
    }
   ],
   "source": [
    "tf.executing_eagerly()"
   ]
  },
  {
   "cell_type": "code",
   "execution_count": 3,
   "metadata": {
    "pycharm": {
     "name": "#%%\n"
    }
   },
   "outputs": [
    {
     "data": {
      "text/plain": [
       "<tf.Tensor: shape=(1, 1), dtype=float32, numpy=array([[4.]], dtype=float32)>"
      ]
     },
     "execution_count": 3,
     "metadata": {},
     "output_type": "execute_result"
    }
   ],
   "source": [
    "x = [[2.]]\n",
    "m = tf.matmul(x, x)"
   ]
  },
  {
   "cell_type": "code",
   "execution_count": 4,
   "metadata": {
    "pycharm": {
     "name": "#%%\n"
    }
   },
   "outputs": [
    {
     "name": "stdout",
     "output_type": "stream",
     "text": [
      "tf.Tensor(\n",
      "[[3. 4.]\n",
      " [5. 6.]], shape=(2, 2), dtype=float32)\n"
     ]
    }
   ],
   "source": [
    "a = [[2. , 3. ] , [4. , 5.]]\n",
    "# Broadcasting support\n",
    "b = tf.add(a, 1)\n",
    "print(b)"
   ]
  },
  {
   "cell_type": "code",
   "execution_count": 6,
   "metadata": {
    "pycharm": {
     "name": "#%%\n"
    }
   },
   "outputs": [
    {
     "name": "stdout",
     "output_type": "stream",
     "text": [
      "[[ 6. 12.]\n",
      " [20. 30.]]\n"
     ]
    }
   ],
   "source": [
    "# Use NumPy values\n",
    "\n",
    "\n",
    "c = np.multiply(a, b)\n",
    "print(c)\n",
    "\n"
   ]
  },
  {
   "cell_type": "code",
   "execution_count": 7,
   "metadata": {
    "pycharm": {
     "name": "#%%\n"
    }
   },
   "outputs": [],
   "source": [
    "def fizzbuzz(max_num):\n",
    "  counter = tf.constant(0)\n",
    "  max_num = tf.convert_to_tensor(max_num)\n",
    "  for num in range(1, max_num.numpy()+1):\n",
    "    num = tf.constant(num)\n",
    "    if int(num % 3) == 0 and int(num % 5) == 0:\n",
    "      print('FizzBuzz')\n",
    "    elif int(num % 3) == 0:\n",
    "      print('Fizz')\n",
    "    elif int(num % 5) == 0:\n",
    "      print('Buzz')\n",
    "    else:\n",
    "      print(num.numpy())\n",
    "    counter += 1"
   ]
  },
  {
   "cell_type": "code",
   "execution_count": 8,
   "metadata": {
    "pycharm": {
     "name": "#%%\n"
    }
   },
   "outputs": [
    {
     "name": "stdout",
     "output_type": "stream",
     "text": [
      "1\n",
      "2\n",
      "Fizz\n",
      "4\n",
      "Buzz\n",
      "Fizz\n",
      "7\n",
      "8\n",
      "Fizz\n",
      "Buzz\n",
      "11\n",
      "Fizz\n",
      "13\n",
      "14\n",
      "FizzBuzz\n",
      "16\n",
      "17\n",
      "Fizz\n",
      "19\n",
      "Buzz\n",
      "Fizz\n",
      "22\n",
      "23\n",
      "Fizz\n",
      "Buzz\n",
      "26\n",
      "Fizz\n",
      "28\n",
      "29\n",
      "FizzBuzz\n",
      "31\n",
      "32\n",
      "Fizz\n",
      "34\n",
      "Buzz\n",
      "Fizz\n",
      "37\n",
      "38\n",
      "Fizz\n",
      "Buzz\n",
      "41\n",
      "Fizz\n",
      "43\n",
      "44\n",
      "FizzBuzz\n",
      "46\n",
      "47\n",
      "Fizz\n",
      "49\n",
      "Buzz\n",
      "Fizz\n",
      "52\n",
      "53\n",
      "Fizz\n",
      "Buzz\n",
      "56\n",
      "Fizz\n",
      "58\n",
      "59\n",
      "FizzBuzz\n",
      "61\n",
      "62\n",
      "Fizz\n",
      "64\n",
      "Buzz\n",
      "Fizz\n",
      "67\n",
      "68\n",
      "Fizz\n",
      "Buzz\n",
      "71\n",
      "Fizz\n",
      "73\n",
      "74\n",
      "FizzBuzz\n",
      "76\n",
      "77\n",
      "Fizz\n",
      "79\n",
      "Buzz\n",
      "Fizz\n",
      "82\n",
      "83\n",
      "Fizz\n",
      "Buzz\n",
      "86\n",
      "Fizz\n",
      "88\n",
      "89\n",
      "FizzBuzz\n",
      "91\n",
      "92\n",
      "Fizz\n",
      "94\n",
      "Buzz\n",
      "Fizz\n",
      "97\n",
      "98\n",
      "Fizz\n",
      "Buzz\n",
      "101\n",
      "Fizz\n",
      "103\n",
      "104\n",
      "FizzBuzz\n",
      "106\n",
      "107\n",
      "Fizz\n",
      "109\n",
      "Buzz\n",
      "Fizz\n",
      "112\n",
      "113\n",
      "Fizz\n",
      "Buzz\n",
      "116\n",
      "Fizz\n",
      "118\n",
      "119\n",
      "FizzBuzz\n",
      "121\n",
      "122\n",
      "Fizz\n",
      "124\n",
      "Buzz\n",
      "Fizz\n",
      "127\n",
      "128\n",
      "Fizz\n",
      "Buzz\n",
      "131\n",
      "Fizz\n",
      "133\n",
      "134\n",
      "FizzBuzz\n",
      "136\n",
      "137\n",
      "Fizz\n",
      "139\n",
      "Buzz\n",
      "Fizz\n",
      "142\n",
      "143\n",
      "Fizz\n",
      "Buzz\n",
      "146\n",
      "Fizz\n",
      "148\n",
      "149\n",
      "FizzBuzz\n",
      "151\n",
      "152\n",
      "Fizz\n",
      "154\n",
      "Buzz\n",
      "Fizz\n",
      "157\n",
      "158\n",
      "Fizz\n",
      "Buzz\n",
      "161\n",
      "Fizz\n",
      "163\n",
      "164\n",
      "FizzBuzz\n",
      "166\n",
      "167\n",
      "Fizz\n",
      "169\n",
      "Buzz\n",
      "Fizz\n",
      "172\n",
      "173\n",
      "Fizz\n",
      "Buzz\n",
      "176\n",
      "Fizz\n",
      "178\n",
      "179\n",
      "FizzBuzz\n",
      "181\n",
      "182\n",
      "Fizz\n",
      "184\n",
      "Buzz\n",
      "Fizz\n",
      "187\n",
      "188\n",
      "Fizz\n",
      "Buzz\n",
      "191\n",
      "Fizz\n",
      "193\n",
      "194\n",
      "FizzBuzz\n",
      "196\n",
      "197\n",
      "Fizz\n",
      "199\n",
      "Buzz\n",
      "Fizz\n",
      "202\n",
      "203\n",
      "Fizz\n",
      "Buzz\n",
      "206\n",
      "Fizz\n",
      "208\n",
      "209\n",
      "FizzBuzz\n",
      "211\n",
      "212\n",
      "Fizz\n",
      "214\n",
      "Buzz\n",
      "Fizz\n",
      "217\n",
      "218\n",
      "Fizz\n",
      "Buzz\n",
      "221\n",
      "Fizz\n",
      "223\n",
      "224\n",
      "FizzBuzz\n",
      "226\n",
      "227\n",
      "Fizz\n",
      "229\n",
      "Buzz\n",
      "Fizz\n",
      "232\n",
      "233\n",
      "Fizz\n",
      "Buzz\n",
      "236\n",
      "Fizz\n",
      "238\n",
      "239\n",
      "FizzBuzz\n",
      "241\n",
      "242\n",
      "Fizz\n",
      "244\n",
      "Buzz\n",
      "Fizz\n",
      "247\n",
      "248\n",
      "Fizz\n",
      "Buzz\n",
      "251\n",
      "Fizz\n",
      "253\n",
      "254\n",
      "FizzBuzz\n",
      "256\n",
      "257\n",
      "Fizz\n",
      "259\n",
      "Buzz\n",
      "Fizz\n",
      "262\n",
      "263\n",
      "Fizz\n",
      "Buzz\n",
      "266\n",
      "Fizz\n",
      "268\n",
      "269\n",
      "FizzBuzz\n",
      "271\n",
      "272\n",
      "Fizz\n",
      "274\n",
      "Buzz\n",
      "Fizz\n",
      "277\n",
      "278\n",
      "Fizz\n",
      "Buzz\n",
      "281\n",
      "Fizz\n",
      "283\n",
      "284\n",
      "FizzBuzz\n",
      "286\n",
      "287\n",
      "Fizz\n",
      "289\n",
      "Buzz\n",
      "Fizz\n",
      "292\n",
      "293\n",
      "Fizz\n",
      "Buzz\n",
      "296\n",
      "Fizz\n",
      "298\n",
      "299\n",
      "FizzBuzz\n",
      "301\n",
      "302\n",
      "Fizz\n",
      "304\n",
      "Buzz\n",
      "Fizz\n",
      "307\n",
      "308\n",
      "Fizz\n",
      "Buzz\n",
      "311\n",
      "Fizz\n",
      "313\n",
      "314\n",
      "FizzBuzz\n",
      "316\n",
      "317\n",
      "Fizz\n",
      "319\n",
      "Buzz\n",
      "Fizz\n",
      "322\n",
      "323\n",
      "Fizz\n",
      "Buzz\n",
      "326\n",
      "Fizz\n",
      "328\n",
      "329\n",
      "FizzBuzz\n",
      "331\n",
      "332\n",
      "Fizz\n",
      "334\n",
      "Buzz\n",
      "Fizz\n",
      "337\n",
      "338\n",
      "Fizz\n",
      "Buzz\n",
      "341\n",
      "Fizz\n",
      "343\n",
      "344\n",
      "FizzBuzz\n",
      "346\n",
      "347\n",
      "Fizz\n",
      "349\n",
      "Buzz\n",
      "Fizz\n",
      "352\n",
      "353\n",
      "Fizz\n",
      "Buzz\n",
      "356\n",
      "Fizz\n",
      "358\n",
      "359\n",
      "FizzBuzz\n",
      "361\n",
      "362\n",
      "Fizz\n",
      "364\n",
      "Buzz\n",
      "Fizz\n",
      "367\n",
      "368\n",
      "Fizz\n",
      "Buzz\n",
      "371\n",
      "Fizz\n",
      "373\n",
      "374\n",
      "FizzBuzz\n",
      "376\n",
      "377\n",
      "Fizz\n",
      "379\n",
      "Buzz\n",
      "Fizz\n",
      "382\n",
      "383\n",
      "Fizz\n",
      "Buzz\n",
      "386\n",
      "Fizz\n",
      "388\n",
      "389\n",
      "FizzBuzz\n",
      "391\n",
      "392\n",
      "Fizz\n",
      "394\n",
      "Buzz\n",
      "Fizz\n",
      "397\n",
      "398\n",
      "Fizz\n",
      "Buzz\n",
      "401\n",
      "Fizz\n",
      "403\n",
      "404\n",
      "FizzBuzz\n",
      "406\n",
      "407\n",
      "Fizz\n",
      "409\n",
      "Buzz\n",
      "Fizz\n",
      "412\n",
      "413\n",
      "Fizz\n",
      "Buzz\n",
      "416\n",
      "Fizz\n",
      "418\n",
      "419\n",
      "FizzBuzz\n",
      "421\n",
      "422\n",
      "Fizz\n",
      "424\n",
      "Buzz\n",
      "Fizz\n",
      "427\n",
      "428\n",
      "Fizz\n",
      "Buzz\n",
      "431\n",
      "Fizz\n",
      "433\n",
      "434\n",
      "FizzBuzz\n",
      "436\n",
      "437\n",
      "Fizz\n",
      "439\n",
      "Buzz\n",
      "Fizz\n",
      "442\n",
      "443\n",
      "Fizz\n",
      "Buzz\n",
      "446\n",
      "Fizz\n",
      "448\n",
      "449\n",
      "FizzBuzz\n",
      "451\n",
      "452\n",
      "Fizz\n",
      "454\n",
      "Buzz\n",
      "Fizz\n",
      "457\n",
      "458\n",
      "Fizz\n",
      "Buzz\n",
      "461\n",
      "Fizz\n",
      "463\n",
      "464\n",
      "FizzBuzz\n",
      "466\n",
      "467\n",
      "Fizz\n",
      "469\n",
      "Buzz\n",
      "Fizz\n",
      "472\n",
      "473\n",
      "Fizz\n",
      "Buzz\n",
      "476\n",
      "Fizz\n",
      "478\n",
      "479\n",
      "FizzBuzz\n",
      "481\n",
      "482\n",
      "Fizz\n",
      "484\n",
      "Buzz\n",
      "Fizz\n",
      "487\n",
      "488\n",
      "Fizz\n",
      "Buzz\n",
      "491\n",
      "Fizz\n",
      "493\n",
      "494\n",
      "FizzBuzz\n",
      "496\n",
      "497\n",
      "Fizz\n",
      "499\n",
      "Buzz\n",
      "Fizz\n",
      "502\n",
      "503\n",
      "Fizz\n",
      "Buzz\n",
      "506\n",
      "Fizz\n",
      "508\n",
      "509\n",
      "FizzBuzz\n",
      "511\n",
      "512\n",
      "Fizz\n",
      "514\n",
      "Buzz\n",
      "Fizz\n",
      "517\n",
      "518\n",
      "Fizz\n",
      "Buzz\n",
      "521\n",
      "Fizz\n",
      "523\n",
      "524\n",
      "FizzBuzz\n",
      "526\n",
      "527\n",
      "Fizz\n",
      "529\n",
      "Buzz\n",
      "Fizz\n",
      "532\n",
      "533\n",
      "Fizz\n",
      "Buzz\n",
      "536\n",
      "Fizz\n",
      "538\n",
      "539\n",
      "FizzBuzz\n",
      "541\n",
      "542\n",
      "Fizz\n",
      "544\n",
      "Buzz\n",
      "Fizz\n",
      "547\n",
      "548\n",
      "Fizz\n",
      "Buzz\n",
      "551\n",
      "Fizz\n",
      "553\n",
      "554\n",
      "FizzBuzz\n",
      "556\n",
      "557\n",
      "Fizz\n",
      "559\n",
      "Buzz\n",
      "Fizz\n",
      "562\n",
      "563\n",
      "Fizz\n",
      "Buzz\n",
      "566\n",
      "Fizz\n",
      "568\n",
      "569\n",
      "FizzBuzz\n",
      "571\n",
      "572\n",
      "Fizz\n",
      "574\n",
      "Buzz\n",
      "Fizz\n",
      "577\n",
      "578\n",
      "Fizz\n",
      "Buzz\n",
      "581\n",
      "Fizz\n",
      "583\n",
      "584\n",
      "FizzBuzz\n",
      "586\n",
      "587\n",
      "Fizz\n",
      "589\n",
      "Buzz\n",
      "Fizz\n",
      "592\n",
      "593\n",
      "Fizz\n",
      "Buzz\n",
      "596\n",
      "Fizz\n",
      "598\n",
      "599\n",
      "FizzBuzz\n",
      "601\n",
      "602\n",
      "Fizz\n",
      "604\n",
      "Buzz\n",
      "Fizz\n",
      "607\n",
      "608\n",
      "Fizz\n",
      "Buzz\n",
      "611\n",
      "Fizz\n",
      "613\n",
      "614\n",
      "FizzBuzz\n",
      "616\n",
      "617\n",
      "Fizz\n",
      "619\n",
      "Buzz\n",
      "Fizz\n",
      "622\n",
      "623\n",
      "Fizz\n",
      "Buzz\n",
      "626\n",
      "Fizz\n",
      "628\n",
      "629\n",
      "FizzBuzz\n",
      "631\n",
      "632\n",
      "Fizz\n",
      "634\n",
      "Buzz\n",
      "Fizz\n",
      "637\n",
      "638\n",
      "Fizz\n",
      "Buzz\n",
      "641\n",
      "Fizz\n",
      "643\n",
      "644\n",
      "FizzBuzz\n",
      "646\n",
      "647\n",
      "Fizz\n",
      "649\n",
      "Buzz\n",
      "Fizz\n",
      "652\n",
      "653\n",
      "Fizz\n",
      "Buzz\n",
      "656\n",
      "Fizz\n",
      "658\n",
      "659\n",
      "FizzBuzz\n",
      "661\n",
      "662\n",
      "Fizz\n",
      "664\n",
      "Buzz\n",
      "Fizz\n",
      "667\n",
      "668\n",
      "Fizz\n",
      "Buzz\n",
      "671\n",
      "Fizz\n",
      "673\n",
      "674\n",
      "FizzBuzz\n",
      "676\n",
      "677\n",
      "Fizz\n",
      "679\n",
      "Buzz\n",
      "Fizz\n",
      "682\n",
      "683\n",
      "Fizz\n",
      "Buzz\n",
      "686\n",
      "Fizz\n",
      "688\n",
      "689\n",
      "FizzBuzz\n",
      "691\n",
      "692\n",
      "Fizz\n",
      "694\n",
      "Buzz\n",
      "Fizz\n",
      "697\n",
      "698\n",
      "Fizz\n",
      "Buzz\n",
      "701\n",
      "Fizz\n",
      "703\n",
      "704\n",
      "FizzBuzz\n",
      "706\n",
      "707\n",
      "Fizz\n",
      "709\n",
      "Buzz\n",
      "Fizz\n",
      "712\n",
      "713\n",
      "Fizz\n",
      "Buzz\n",
      "716\n",
      "Fizz\n",
      "718\n",
      "719\n",
      "FizzBuzz\n",
      "721\n",
      "722\n",
      "Fizz\n",
      "724\n",
      "Buzz\n",
      "Fizz\n",
      "727\n",
      "728\n",
      "Fizz\n",
      "Buzz\n",
      "731\n",
      "Fizz\n",
      "733\n",
      "734\n",
      "FizzBuzz\n",
      "736\n",
      "737\n",
      "Fizz\n",
      "739\n",
      "Buzz\n",
      "Fizz\n",
      "742\n",
      "743\n",
      "Fizz\n",
      "Buzz\n",
      "746\n",
      "Fizz\n",
      "748\n",
      "749\n",
      "FizzBuzz\n",
      "751\n",
      "752\n",
      "Fizz\n",
      "754\n",
      "Buzz\n",
      "Fizz\n",
      "757\n",
      "758\n",
      "Fizz\n",
      "Buzz\n",
      "761\n",
      "Fizz\n",
      "763\n",
      "764\n",
      "FizzBuzz\n",
      "766\n",
      "767\n",
      "Fizz\n",
      "769\n",
      "Buzz\n",
      "Fizz\n",
      "772\n",
      "773\n",
      "Fizz\n",
      "Buzz\n",
      "776\n",
      "Fizz\n",
      "778\n",
      "779\n",
      "FizzBuzz\n",
      "781\n",
      "782\n",
      "Fizz\n",
      "784\n",
      "Buzz\n",
      "Fizz\n",
      "787\n",
      "788\n",
      "Fizz\n",
      "Buzz\n",
      "791\n",
      "Fizz\n",
      "793\n",
      "794\n",
      "FizzBuzz\n",
      "796\n",
      "797\n",
      "Fizz\n",
      "799\n",
      "Buzz\n",
      "Fizz\n",
      "802\n",
      "803\n",
      "Fizz\n",
      "Buzz\n",
      "806\n",
      "Fizz\n",
      "808\n",
      "809\n",
      "FizzBuzz\n",
      "811\n",
      "812\n",
      "Fizz\n",
      "814\n",
      "Buzz\n",
      "Fizz\n",
      "817\n",
      "818\n",
      "Fizz\n",
      "Buzz\n",
      "821\n",
      "Fizz\n",
      "823\n",
      "824\n",
      "FizzBuzz\n",
      "826\n",
      "827\n",
      "Fizz\n",
      "829\n",
      "Buzz\n",
      "Fizz\n",
      "832\n",
      "833\n",
      "Fizz\n",
      "Buzz\n",
      "836\n",
      "Fizz\n",
      "838\n",
      "839\n",
      "FizzBuzz\n",
      "841\n",
      "842\n",
      "Fizz\n",
      "844\n",
      "Buzz\n",
      "Fizz\n",
      "847\n",
      "848\n",
      "Fizz\n",
      "Buzz\n",
      "851\n",
      "Fizz\n",
      "853\n",
      "854\n",
      "FizzBuzz\n",
      "856\n",
      "857\n",
      "Fizz\n",
      "859\n",
      "Buzz\n",
      "Fizz\n",
      "862\n",
      "863\n",
      "Fizz\n",
      "Buzz\n",
      "866\n",
      "Fizz\n",
      "868\n",
      "869\n",
      "FizzBuzz\n",
      "871\n",
      "872\n",
      "Fizz\n",
      "874\n",
      "Buzz\n",
      "Fizz\n",
      "877\n",
      "878\n",
      "Fizz\n",
      "Buzz\n",
      "881\n",
      "Fizz\n",
      "883\n",
      "884\n",
      "FizzBuzz\n",
      "886\n",
      "887\n",
      "Fizz\n",
      "889\n",
      "Buzz\n",
      "Fizz\n",
      "892\n",
      "893\n",
      "Fizz\n",
      "Buzz\n",
      "896\n",
      "Fizz\n",
      "898\n",
      "899\n",
      "FizzBuzz\n",
      "901\n",
      "902\n",
      "Fizz\n",
      "904\n",
      "Buzz\n",
      "Fizz\n",
      "907\n",
      "908\n",
      "Fizz\n",
      "Buzz\n",
      "911\n",
      "Fizz\n",
      "913\n",
      "914\n",
      "FizzBuzz\n",
      "916\n",
      "917\n",
      "Fizz\n",
      "919\n",
      "Buzz\n",
      "Fizz\n",
      "922\n",
      "923\n",
      "Fizz\n",
      "Buzz\n",
      "926\n",
      "Fizz\n",
      "928\n",
      "929\n",
      "FizzBuzz\n",
      "931\n",
      "932\n",
      "Fizz\n",
      "934\n",
      "Buzz\n",
      "Fizz\n",
      "937\n",
      "938\n",
      "Fizz\n",
      "Buzz\n",
      "941\n",
      "Fizz\n",
      "943\n",
      "944\n",
      "FizzBuzz\n",
      "946\n",
      "947\n",
      "Fizz\n",
      "949\n",
      "Buzz\n",
      "Fizz\n",
      "952\n",
      "953\n",
      "Fizz\n",
      "Buzz\n",
      "956\n",
      "Fizz\n",
      "958\n",
      "959\n",
      "FizzBuzz\n",
      "961\n",
      "962\n",
      "Fizz\n",
      "964\n",
      "Buzz\n",
      "Fizz\n",
      "967\n",
      "968\n",
      "Fizz\n",
      "Buzz\n",
      "971\n",
      "Fizz\n",
      "973\n",
      "974\n",
      "FizzBuzz\n",
      "976\n",
      "977\n",
      "Fizz\n",
      "979\n",
      "Buzz\n",
      "Fizz\n",
      "982\n",
      "983\n",
      "Fizz\n",
      "Buzz\n",
      "986\n",
      "Fizz\n",
      "988\n",
      "989\n",
      "FizzBuzz\n",
      "991\n",
      "992\n",
      "Fizz\n",
      "994\n",
      "Buzz\n",
      "Fizz\n",
      "997\n",
      "998\n",
      "Fizz\n",
      "Buzz\n"
     ]
    }
   ],
   "source": [
    "fizzbuzz(1000)"
   ]
  },
  {
   "cell_type": "code",
   "execution_count": 4,
   "metadata": {
    "pycharm": {
     "name": "#%%\n"
    }
   },
   "outputs": [],
   "source": [
    "# Variables\n",
    "tf.debugging.set_log_device_placement(True)\n"
   ]
  },
  {
   "cell_type": "code",
   "execution_count": 4,
   "metadata": {
    "pycharm": {
     "name": "#%%\n"
    }
   },
   "outputs": [
    {
     "name": "stdout",
     "output_type": "stream",
     "text": [
      "Executing op VarHandleOp in device /job:localhost/replica:0/task:0/device:CPU:0\n",
      "Executing op AssignVariableOp in device /job:localhost/replica:0/task:0/device:CPU:0\n",
      "Executing op VarHandleOp in device /job:localhost/replica:0/task:0/device:CPU:0\n",
      "Executing op AssignVariableOp in device /job:localhost/replica:0/task:0/device:CPU:0\n",
      "Executing op VarHandleOp in device /job:localhost/replica:0/task:0/device:CPU:0\n",
      "Executing op AssignVariableOp in device /job:localhost/replica:0/task:0/device:CPU:0\n"
     ]
    }
   ],
   "source": [
    "my_tensor = tf.constant([[1.0, 2.0], [3.0, 4.0]])\n",
    "my_variable = tf.Variable(my_tensor)\n",
    "\n",
    "# Variables can be all kinds of types, just like tensors\n",
    "bool_variable = tf.Variable([False, False, False, True])\n",
    "complex_variable = tf.Variable([5 + 4j, 6 + 1j])"
   ]
  },
  {
   "cell_type": "code",
   "execution_count": 5,
   "metadata": {
    "pycharm": {
     "name": "#%%\n"
    }
   },
   "outputs": [
    {
     "name": "stdout",
     "output_type": "stream",
     "text": [
      "Shape:  (2, 2)\n",
      "DType:  <dtype: 'float32'>\n",
      "Executing op ReadVariableOp in device /job:localhost/replica:0/task:0/device:CPU:0\n",
      "Executing op Identity in device /job:localhost/replica:0/task:0/device:CPU:0\n",
      "As NumPy:  [[1. 2.]\n",
      " [3. 4.]]\n"
     ]
    }
   ],
   "source": [
    "print(\"Shape: \", my_variable.shape)\n",
    "print(\"DType: \", my_variable.dtype)\n",
    "print(\"As NumPy: \", my_variable.numpy())"
   ]
  },
  {
   "cell_type": "code",
   "execution_count": 14,
   "metadata": {
    "pycharm": {
     "name": "#%%\n"
    }
   },
   "outputs": [
    {
     "name": "stdout",
     "output_type": "stream",
     "text": [
      "Num GPUs Available:  [PhysicalDevice(name='/physical_device:CPU:0', device_type='CPU')]\n"
     ]
    }
   ],
   "source": []
  },
  {
   "cell_type": "code",
   "execution_count": 6,
   "metadata": {
    "pycharm": {
     "name": "#%%\n"
    }
   },
   "outputs": [
    {
     "name": "stdout",
     "output_type": "stream",
     "text": [
      "tf.Tensor(\n",
      "[[ 1.  4.  9.]\n",
      " [ 4. 10. 18.]], shape=(2, 3), dtype=float32)\n"
     ]
    }
   ],
   "source": [
    "with tf.device('/GPU:0'):\n",
    "  a = tf.Variable([[1.0, 2.0, 3.0], [4.0, 5.0, 6.0]])\n",
    "  b = tf.Variable([[1.0, 2.0, 3.0]])\n",
    "\n",
    "with tf.device('GPU:0'):\n",
    "  # Element-wise multiply\n",
    "  k = a * b\n",
    "\n",
    "print(k)\n"
   ]
  },
  {
   "cell_type": "code",
   "execution_count": 8,
   "metadata": {
    "pycharm": {
     "name": "#%%\n"
    }
   },
   "outputs": [
    {
     "name": "stdout",
     "output_type": "stream",
     "text": [
      "Spike <tf.Variable 'Variable:0' shape=() dtype=bool, numpy=False>\n",
      "Spike <tf.Variable 'Variable:0' shape=() dtype=bool, numpy=True>\n",
      "Spike <tf.Variable 'Variable:0' shape=() dtype=bool, numpy=False>\n",
      "Spike <tf.Variable 'Variable:0' shape=() dtype=bool, numpy=False>\n",
      "Spike <tf.Variable 'Variable:0' shape=() dtype=bool, numpy=True>\n",
      "Spike <tf.Variable 'Variable:0' shape=() dtype=bool, numpy=False>\n",
      "Spike <tf.Variable 'Variable:0' shape=() dtype=bool, numpy=True>\n"
     ]
    }
   ],
   "source": [
    "# Из Шакла Машинное обучение и Tensorflow\n",
    "raw_data = [ 1., 2., 8., -1., 0., 5.5, 6., 13.]\n",
    "spike = tf.Variable([False] * len(raw_data), name=\"spikes\")\n",
    "for i in range(1, len(raw_data)):\n",
    "    if raw_data[i] - raw_data[i - 1] > 5:\n",
    "        updater = spike[i - 1].assign(True)\n",
    "print(\"Spike\", spike)\n",
    "spike.save"
   ]
  },
  {
   "cell_type": "code",
   "execution_count": 33,
   "metadata": {
    "pycharm": {
     "name": "#%%\n"
    }
   },
   "outputs": [],
   "source": [
    "# Testing new features from TF 2\n",
    "raw_data = np.random.normal(10, 1, 100)\n",
    "update_avg = tf.Variable(0., dtype=tf.float64)\n",
    "curr_value = tf.Variable(0., dtype=tf.float64)\n",
    "prev_avg = tf.Variable(0., dtype=tf.float64)\n",
    "@tf.function\n",
    "def sliding_mean(curr_v, prev_v, alpha = tf.constant(0.05, dtype=tf.float64)):\n",
    "    prev_avg.assign(alpha * curr_v + (1 - alpha) * prev_v)\n",
    "\n",
    "writer = tf.summary.create_file_writer(\"logs\")"
   ]
  },
  {
   "cell_type": "code",
   "execution_count": 34,
   "metadata": {
    "pycharm": {
     "name": "#%%\n"
    }
   },
   "outputs": [
    {
     "name": "stdout",
     "output_type": "stream",
     "text": [
      "The tensorboard extension is already loaded. To reload it, use:\n",
      "  %reload_ext tensorboard\n",
      "9.343100572455386 <tf.Variable 'Variable:0' shape=() dtype=float64, numpy=0.4671550286227693>\n",
      "9.41796289638261 <tf.Variable 'Variable:0' shape=() dtype=float64, numpy=0.9146954220107613>\n",
      "8.592528532727345 <tf.Variable 'Variable:0' shape=() dtype=float64, numpy=1.2985870775465904>\n",
      "9.31623449807844 <tf.Variable 'Variable:0' shape=() dtype=float64, numpy=1.6994694485731827>\n",
      "8.586603068993968 <tf.Variable 'Variable:0' shape=() dtype=float64, numpy=2.0438261295942217>\n",
      "9.81446199200797 <tf.Variable 'Variable:0' shape=() dtype=float64, numpy=2.432357922714909>\n",
      "9.962976863012708 <tf.Variable 'Variable:0' shape=() dtype=float64, numpy=2.808888869729799>\n",
      "10.285377456448748 <tf.Variable 'Variable:0' shape=() dtype=float64, numpy=3.182713299065746>\n",
      "9.078189118522099 <tf.Variable 'Variable:0' shape=() dtype=float64, numpy=3.4774870900385633>\n",
      "10.257789806363222 <tf.Variable 'Variable:0' shape=() dtype=float64, numpy=3.816502225854796>\n",
      "10.228994124460135 <tf.Variable 'Variable:0' shape=() dtype=float64, numpy=4.137126820785062>\n",
      "10.696464262129723 <tf.Variable 'Variable:0' shape=() dtype=float64, numpy=4.465093692852295>\n",
      "7.969509427857336 <tf.Variable 'Variable:0' shape=() dtype=float64, numpy=4.640314479602546>\n",
      "10.720831486372745 <tf.Variable 'Variable:0' shape=() dtype=float64, numpy=4.944340329941055>\n",
      "9.909337357677208 <tf.Variable 'Variable:0' shape=() dtype=float64, numpy=5.192590181327863>\n",
      "9.491114133279915 <tf.Variable 'Variable:0' shape=() dtype=float64, numpy=5.4075163789254646>\n",
      "8.967516222557837 <tf.Variable 'Variable:0' shape=() dtype=float64, numpy=5.585516371107083>\n",
      "10.648469349226403 <tf.Variable 'Variable:0' shape=() dtype=float64, numpy=5.838664020013049>\n",
      "11.02973803886189 <tf.Variable 'Variable:0' shape=() dtype=float64, numpy=6.09821772095549>\n",
      "9.910851877526994 <tf.Variable 'Variable:0' shape=() dtype=float64, numpy=6.288849428784064>\n",
      "10.276953668748453 <tf.Variable 'Variable:0' shape=() dtype=float64, numpy=6.488254640782283>\n",
      "9.84387280400414 <tf.Variable 'Variable:0' shape=() dtype=float64, numpy=6.656035548943375>\n",
      "9.515414677257395 <tf.Variable 'Variable:0' shape=() dtype=float64, numpy=6.799004505359076>\n",
      "9.84060744629788 <tf.Variable 'Variable:0' shape=() dtype=float64, numpy=6.951084652406016>\n",
      "11.464387023563956 <tf.Variable 'Variable:0' shape=() dtype=float64, numpy=7.176749770963912>\n",
      "9.964064593784459 <tf.Variable 'Variable:0' shape=() dtype=float64, numpy=7.31611551210494>\n",
      "11.80539416233551 <tf.Variable 'Variable:0' shape=() dtype=float64, numpy=7.540579444616467>\n",
      "10.335594964807303 <tf.Variable 'Variable:0' shape=() dtype=float64, numpy=7.680330220626009>\n",
      "9.572591837078097 <tf.Variable 'Variable:0' shape=() dtype=float64, numpy=7.774943301448613>\n",
      "9.44829387183685 <tf.Variable 'Variable:0' shape=() dtype=float64, numpy=7.858610829968025>\n",
      "10.983664005878802 <tf.Variable 'Variable:0' shape=() dtype=float64, numpy=8.014863488763563>\n",
      "9.329003350201797 <tf.Variable 'Variable:0' shape=() dtype=float64, numpy=8.080570481835474>\n",
      "9.4921026341282 <tf.Variable 'Variable:0' shape=() dtype=float64, numpy=8.151147089450111>\n",
      "10.23606190932433 <tf.Variable 'Variable:0' shape=() dtype=float64, numpy=8.25539283044382>\n",
      "12.783667097357764 <tf.Variable 'Variable:0' shape=() dtype=float64, numpy=8.481806543789517>\n",
      "10.114838363421468 <tf.Variable 'Variable:0' shape=() dtype=float64, numpy=8.563458134771114>\n",
      "9.147920926394043 <tf.Variable 'Variable:0' shape=() dtype=float64, numpy=8.59268127435226>\n",
      "10.940488225758129 <tf.Variable 'Variable:0' shape=() dtype=float64, numpy=8.710071621922555>\n",
      "9.704784017032075 <tf.Variable 'Variable:0' shape=() dtype=float64, numpy=8.75980724167803>\n",
      "11.459938943771474 <tf.Variable 'Variable:0' shape=() dtype=float64, numpy=8.894813826782704>\n",
      "10.419119238560942 <tf.Variable 'Variable:0' shape=() dtype=float64, numpy=8.971029097371616>\n",
      "10.63984111492574 <tf.Variable 'Variable:0' shape=() dtype=float64, numpy=9.05446969824932>\n",
      "10.394125026339218 <tf.Variable 'Variable:0' shape=() dtype=float64, numpy=9.121452464653816>\n",
      "11.747013469151929 <tf.Variable 'Variable:0' shape=() dtype=float64, numpy=9.25273051487872>\n",
      "10.772148071451875 <tf.Variable 'Variable:0' shape=() dtype=float64, numpy=9.328701392707377>\n",
      "10.410506653227046 <tf.Variable 'Variable:0' shape=() dtype=float64, numpy=9.382791655733358>\n",
      "8.851968519632361 <tf.Variable 'Variable:0' shape=() dtype=float64, numpy=9.356250498928308>\n",
      "10.250635264792672 <tf.Variable 'Variable:0' shape=() dtype=float64, numpy=9.400969737221526>\n",
      "10.588096092750401 <tf.Variable 'Variable:0' shape=() dtype=float64, numpy=9.46032605499797>\n",
      "9.222119922293164 <tf.Variable 'Variable:0' shape=() dtype=float64, numpy=9.44841574836273>\n",
      "10.313000608624202 <tf.Variable 'Variable:0' shape=() dtype=float64, numpy=9.491644991375804>\n",
      "9.637465239664344 <tf.Variable 'Variable:0' shape=() dtype=float64, numpy=9.49893600379023>\n",
      "11.162464411205704 <tf.Variable 'Variable:0' shape=() dtype=float64, numpy=9.582112424161004>\n",
      "10.41935206520382 <tf.Variable 'Variable:0' shape=() dtype=float64, numpy=9.623974406213144>\n",
      "10.079210217597375 <tf.Variable 'Variable:0' shape=() dtype=float64, numpy=9.646736196782355>\n",
      "9.945742019751643 <tf.Variable 'Variable:0' shape=() dtype=float64, numpy=9.661686487930819>\n",
      "8.463244274071151 <tf.Variable 'Variable:0' shape=() dtype=float64, numpy=9.601764377237835>\n",
      "10.25010535883419 <tf.Variable 'Variable:0' shape=() dtype=float64, numpy=9.634181426317651>\n",
      "11.41554507597463 <tf.Variable 'Variable:0' shape=() dtype=float64, numpy=9.723249608800499>\n",
      "10.571440958981297 <tf.Variable 'Variable:0' shape=() dtype=float64, numpy=9.765659176309539>\n",
      "10.167614270937289 <tf.Variable 'Variable:0' shape=() dtype=float64, numpy=9.785756931040927>\n",
      "9.537197769798 <tf.Variable 'Variable:0' shape=() dtype=float64, numpy=9.77332897297878>\n",
      "8.08395400420667 <tf.Variable 'Variable:0' shape=() dtype=float64, numpy=9.688860224540175>\n",
      "10.422466088319906 <tf.Variable 'Variable:0' shape=() dtype=float64, numpy=9.725540517729161>\n",
      "9.014215823946827 <tf.Variable 'Variable:0' shape=() dtype=float64, numpy=9.689974283040044>\n",
      "9.428095037132909 <tf.Variable 'Variable:0' shape=() dtype=float64, numpy=9.676880320744688>\n",
      "8.615839967002334 <tf.Variable 'Variable:0' shape=() dtype=float64, numpy=9.62382830305757>\n",
      "10.85573295567609 <tf.Variable 'Variable:0' shape=() dtype=float64, numpy=9.685423535688496>\n",
      "8.19904067360944 <tf.Variable 'Variable:0' shape=() dtype=float64, numpy=9.611104392584544>\n",
      "9.756934973342057 <tf.Variable 'Variable:0' shape=() dtype=float64, numpy=9.618395921622419>\n",
      "10.143032875286675 <tf.Variable 'Variable:0' shape=() dtype=float64, numpy=9.644627769305632>\n",
      "9.478845390444132 <tf.Variable 'Variable:0' shape=() dtype=float64, numpy=9.636338650362557>\n",
      "8.169774102353191 <tf.Variable 'Variable:0' shape=() dtype=float64, numpy=9.563010422962087>\n",
      "10.674184139840245 <tf.Variable 'Variable:0' shape=() dtype=float64, numpy=9.618569108805994>\n",
      "9.38577381880285 <tf.Variable 'Variable:0' shape=() dtype=float64, numpy=9.606929344305838>\n",
      "10.915033943273142 <tf.Variable 'Variable:0' shape=() dtype=float64, numpy=9.672334574254203>\n",
      "11.09219491966957 <tf.Variable 'Variable:0' shape=() dtype=float64, numpy=9.74332759152497>\n",
      "9.301703045900968 <tf.Variable 'Variable:0' shape=() dtype=float64, numpy=9.721246364243768>\n",
      "9.490969326875012 <tf.Variable 'Variable:0' shape=() dtype=float64, numpy=9.709732512375329>\n",
      "12.381777152867913 <tf.Variable 'Variable:0' shape=() dtype=float64, numpy=9.843334744399957>\n",
      "8.900437726953506 <tf.Variable 'Variable:0' shape=() dtype=float64, numpy=9.796189893527634>\n",
      "10.022708771085588 <tf.Variable 'Variable:0' shape=() dtype=float64, numpy=9.80751583740553>\n",
      "9.340057128070109 <tf.Variable 'Variable:0' shape=() dtype=float64, numpy=9.78414290193876>\n",
      "9.264100548832607 <tf.Variable 'Variable:0' shape=() dtype=float64, numpy=9.758140784283452>\n",
      "9.69308338068857 <tf.Variable 'Variable:0' shape=() dtype=float64, numpy=9.754887914103707>\n",
      "9.89782013900569 <tf.Variable 'Variable:0' shape=() dtype=float64, numpy=9.762034525348806>\n",
      "9.386088846158831 <tf.Variable 'Variable:0' shape=() dtype=float64, numpy=9.743237241389306>\n",
      "9.965728026534144 <tf.Variable 'Variable:0' shape=() dtype=float64, numpy=9.754361780646548>\n"
     ]
    },
    {
     "name": "stdout",
     "output_type": "stream",
     "text": [
      "8.016357671938582 <tf.Variable 'Variable:0' shape=() dtype=float64, numpy=9.66746157521115>\n",
      "9.273364740428528 <tf.Variable 'Variable:0' shape=() dtype=float64, numpy=9.647756733472018>\n",
      "9.98668727317749 <tf.Variable 'Variable:0' shape=() dtype=float64, numpy=9.664703260457292>\n",
      "9.88594712716893 <tf.Variable 'Variable:0' shape=() dtype=float64, numpy=9.675765453792874>\n",
      "9.722448758747312 <tf.Variable 'Variable:0' shape=() dtype=float64, numpy=9.678099619040596>\n",
      "9.692014838272625 <tf.Variable 'Variable:0' shape=() dtype=float64, numpy=9.678795380002198>\n",
      "10.476298083204208 <tf.Variable 'Variable:0' shape=() dtype=float64, numpy=9.718670515162296>\n",
      "9.252798739316537 <tf.Variable 'Variable:0' shape=() dtype=float64, numpy=9.695376926370008>\n",
      "10.507918663821144 <tf.Variable 'Variable:0' shape=() dtype=float64, numpy=9.736004013242564>\n",
      "11.409239211502506 <tf.Variable 'Variable:0' shape=() dtype=float64, numpy=9.81966577315556>\n",
      "8.843151276464365 <tf.Variable 'Variable:0' shape=() dtype=float64, numpy=9.770840048320999>\n",
      "10.331414744839812 <tf.Variable 'Variable:0' shape=() dtype=float64, numpy=9.798868783146938>\n"
     ]
    }
   ],
   "source": [
    "%load_ext tensorboard\n",
    "tf.compat.v1.variables_initializer(tf.compat.v1.global_variables())\n",
    "with writer.as_default():\n",
    "    for i in range(len(raw_data)):\n",
    "        tf.summary.scalar(\"running_average\", prev_avg, step=i)\n",
    "        sliding_mean(raw_data[i], prev_avg)\n",
    "        print(raw_data[i], prev_avg)\n",
    "        tf.summary.scalar(\"incoming_values\", raw_data[i], step=i)\n"
   ]
  },
  {
   "cell_type": "code",
   "execution_count": 35,
   "metadata": {
    "pycharm": {
     "name": "#%%\n"
    }
   },
   "outputs": [
    {
     "data": {
      "text/plain": [
       "Reusing TensorBoard on port 6006 (pid 10348), started 0:08:00 ago. (Use '!kill 10348' to kill it.)"
      ]
     },
     "metadata": {},
     "output_type": "display_data"
    },
    {
     "data": {
      "text/html": [
       "\n",
       "      <iframe id=\"tensorboard-frame-3fc247dce06a74be\" width=\"100%\" height=\"800\" frameborder=\"0\">\n",
       "      </iframe>\n",
       "      <script>\n",
       "        (function() {\n",
       "          const frame = document.getElementById(\"tensorboard-frame-3fc247dce06a74be\");\n",
       "          const url = new URL(\"/\", window.location);\n",
       "          const port = 6006;\n",
       "          if (port) {\n",
       "            url.port = port;\n",
       "          }\n",
       "          frame.src = url;\n",
       "        })();\n",
       "      </script>\n",
       "    "
      ],
      "text/plain": [
       "<IPython.core.display.HTML object>"
      ]
     },
     "metadata": {},
     "output_type": "display_data"
    }
   ],
   "source": [
    "%tensorboard --logdir logs\n"
   ]
  },
  {
   "cell_type": "markdown",
   "metadata": {
    "pycharm": {
     "name": "#%% md\n"
    }
   },
   "source": [
    "Liner regression"
   ]
  },
  {
   "cell_type": "code",
   "execution_count": 2,
   "metadata": {
    "pycharm": {
     "name": "#%%\n"
    }
   },
   "outputs": [
    {
     "data": {
      "image/png": "[encoded data removed]",
      "text/plain": [
       "<Figure size 432x288 with 1 Axes>"
      ]
     },
     "metadata": {
      "needs_background": "light"
     },
     "output_type": "display_data"
    }
   ],
   "source": [
    "import matplotlib.pyplot as plt\n",
    "x_train = np.linspace(-1, 1, 101, dtype=np.float32)\n",
    "y_train = np.array(2 * x_train + np.random.randn(*x_train.shape), dtype=np.float32)\n",
    "plt.scatter(x_train, y_train)\n",
    "plt.show()"
   ]
  },
  {
   "cell_type": "code",
   "execution_count": 3,
   "metadata": {
    "pycharm": {
     "name": "#%%\n"
    }
   },
   "outputs": [],
   "source": [
    "\n",
    "learning_rate = 0.01\n",
    "epochs = 100\n",
    "X_train = tf.Variable(x_train, dtype=tf.float32)\n",
    "Y_train = tf.Variable(y_train, dtype=tf.float32)\n",
    "W = tf.Variable(0.0, name=\"weights\")\n",
    "@tf.function\n",
    "def minimize_func(x, y ,w):\n",
    "    return tf.square(y - tf.multiply(x, w))\n",
    "\n",
    "train_op = SGD(lr=learning_rate)\n",
    "loss = lambda : minimize_func(X_train, Y_train, W)\n",
    "var_list = [W]\n",
    "for i in range(epochs):\n",
    "        train_op.minimize(loss, var_list)"
   ]
  },
  {
   "cell_type": "code",
   "execution_count": 4,
   "metadata": {
    "pycharm": {
     "name": "#%%\n"
    }
   },
   "outputs": [
    {
     "data": {
      "image/png": "[encoded data removed]",
      "text/plain": [
       "<Figure size 432x288 with 1 Axes>"
      ]
     },
     "metadata": {
      "needs_background": "light"
     },
     "output_type": "display_data"
    }
   ],
   "source": [
    "plt.scatter(x_train, y_train)\n",
    "y_learned = X_train * W\n",
    "plt.plot(x_train, y_learned, color=\"red\")\n",
    "plt.show()"
   ]
  },
  {
   "cell_type": "code",
   "execution_count": 5,
   "metadata": {
    "pycharm": {
     "name": "#%%\n"
    }
   },
   "outputs": [
    {
     "name": "stdout",
     "output_type": "stream",
     "text": [
      "0.9309956336021423\n",
      "0.9392726\n"
     ]
    }
   ],
   "source": [
    "sse = np.mean((np.mean(y_learned) - y_train) ** 2)\n",
    "var = np.var(y_learned)\n",
    "bias = sse - var - 0.01\n",
    "print(bias)\n",
    "print(var)"
   ]
  },
  {
   "cell_type": "markdown",
   "metadata": {
    "pycharm": {
     "name": "#%% md\n"
    }
   },
   "source": [
    "LR with polynomial function"
   ]
  },
  {
   "cell_type": "code",
   "execution_count": 4,
   "metadata": {
    "pycharm": {
     "name": "#%%\n"
    }
   },
   "outputs": [
    {
     "data": {
      "text/plain": "<Figure size 432x288 with 1 Axes>",
      "image/png": "[encoded data removed]"
     },
     "metadata": {
      "needs_background": "light"
     },
     "output_type": "display_data"
    }
   ],
   "source": [
    "# creating data\n",
    "trX = np.linspace(-1, 1, 101)\n",
    "num_coeffs = 6\n",
    "trY_coeffs = [1, 2, 3, 4, 5, 6]\n",
    "trY = 0\n",
    "for i in range(num_coeffs):\n",
    "    trY += trY_coeffs[i] * np.power(trX, i)\n",
    "ideal_trY = trY.copy()\n",
    "trY += np.random.randn(*trX.shape) * 1.5\n",
    "plt.scatter(trX, trY)\n",
    "plt.show()"
   ]
  },
  {
   "cell_type": "code",
   "execution_count": 37,
   "metadata": {
    "pycharm": {
     "name": "#%%\n"
    }
   },
   "outputs": [
    {
     "name": "stdout",
     "output_type": "stream",
     "text": [
      "LOSS:  1\r\n",
      "LOSS:  2\r\n",
      "LOSS:  3\r\n",
      "LOSS:  4\r\n",
      "LOSS:  5\r\n",
      "LOSS:  6\r\n",
      "LOSS:  7\r\n",
      "LOSS:  8\r\n",
      "LOSS:  9\r\n",
      "LOSS:  10\r\n",
      "LOSS:  11\r\n",
      "LOSS:  12\r\n",
      "LOSS:  13\r\n",
      "LOSS:  14\r\n",
      "LOSS:  15\r\n",
      "LOSS:  16\r\n",
      "LOSS:  17\r\n",
      "LOSS:  18\r\n",
      "LOSS:  19\r\n",
      "LOSS:  20\r\n",
      "LOSS:  21\r\n",
      "LOSS:  22\r\n",
      "LOSS:  23\r\n",
      "LOSS:  24\r\n",
      "LOSS:  25\r\n",
      "LOSS:  26\r\n",
      "LOSS:  27\r\n",
      "LOSS:  28\r\n",
      "LOSS:  29\r\n",
      "LOSS:  30\r\n",
      "LOSS:  31\r\n",
      "LOSS:  32\r\n",
      "LOSS:  33\r\n",
      "LOSS:  34\r\n",
      "LOSS:  35\r\n",
      "LOSS:  36\r\n",
      "LOSS:  37\r\n",
      "LOSS:  38\r\n",
      "LOSS:  39\r\n",
      "LOSS:  40\r\n",
      "<tf.Variable 'params:0' shape=(6, 1) dtype=float32, numpy=\n",
      "array([[1.129032 ],\n",
      "       [2.4051406],\n",
      "       [3.5226533],\n",
      "       [4.1534863],\n",
      "       [4.198732 ],\n",
      "       [4.536217 ]], dtype=float32)>\n"
     ]
    }
   ],
   "source": [
    "from tensorflow.keras.losses import MSE\n",
    "# @tf.function\n",
    "def squared_error(y_true, y_pred):\n",
    "   return tf.square(tf.subtract(y_pred, y_true))\n",
    "\n",
    "def predic_func(x, w):\n",
    "    terms = []\n",
    "    for i in range(num_coeffs):\n",
    "        term = tf.multiply(w[i], tf.pow(x, i))\n",
    "        terms.append(term)\n",
    "    return tf.add_n(terms)\n",
    "\n",
    "learning_rate = 0.005\n",
    "X_train = tf.Variable(trX, dtype=tf.float32)\n",
    "Y_train = tf.Variable(trY, dtype=tf.float32)\n",
    "W = tf.Variable(tf.zeros((num_coeffs, 1)), name=\"params\", dtype=tf.float32)\n",
    "# C = tf.Variable(0, name=\"constant\", dtype=tf.float32)\n",
    "train_op = SGD(learning_rate=learning_rate)\n",
    "loss = lambda : tf.reduce_sum(tf.square(Y_train - predic_func(X_train, W)))\n",
    "epochs = 40\n",
    "# var_list = [W]\n",
    "for i in range(epochs):\n",
    "    loss_1 = train_op.minimize(loss, [W])\n",
    "    tf.print(\"LOSS: \", loss_1)\n",
    "    # print(\"GRAD: \", grad)\n",
    "# ERROR approximation is wrong\n",
    "print(W)"
   ]
  },
  {
   "cell_type": "code",
   "execution_count": 38,
   "metadata": {
    "pycharm": {
     "name": "#%%\n"
    }
   },
   "outputs": [
    {
     "data": {
      "text/plain": "<Figure size 432x288 with 1 Axes>",
      "image/png": "[encoded data removed]"
     },
     "metadata": {
      "needs_background": "light"
     },
     "output_type": "display_data"
    }
   ],
   "source": [
    "plt.scatter(X_train, Y_train)\n",
    "y_learned = predic_func(X_train, W)\n",
    "plt.plot(trX, y_learned.numpy(), color=\"red\")\n",
    "plt.plot(trX, ideal_trY, color=\"green\")\n",
    "plt.show()"
   ]
  },
  {
   "cell_type": "code",
   "execution_count": 52,
   "outputs": [
    {
     "data": {
      "text/plain": "array([[6.60301]], dtype=float32)"
     },
     "execution_count": 52,
     "metadata": {},
     "output_type": "execute_result"
    }
   ],
   "source": [],
   "metadata": {
    "collapsed": false,
    "pycharm": {
     "name": "#%%\n"
    }
   }
  },
  {
   "cell_type": "markdown",
   "metadata": {
    "pycharm": {
     "name": "#%% md\n"
    }
   },
   "source": [
    "Linear regression with L1 regularization"
   ]
  },
  {
   "cell_type": "code",
   "execution_count": 30,
   "outputs": [],
   "source": [
    "from sklearn.model_selection import train_test_split\n",
    "x_dataset = np.linspace(-1, 1, 100)\n",
    "num_coeffs = 9\n",
    "y_dataset_params = [0.] * num_coeffs\n",
    "y_dataset_params[2] = 1\n",
    "y_dataset = 0\n",
    "for i in range(num_coeffs):\n",
    "    y_dataset += y_dataset_params[i] * np.power(x_dataset, i)\n",
    "y_dataset += np.random.randn(*x_dataset.shape) * 0.3\n",
    "(X_train, X_test, Y_train, Y_test) = train_test_split(x_dataset, y_dataset, train_size=0.7)"
   ],
   "metadata": {
    "collapsed": false,
    "pycharm": {
     "name": "#%%\n"
    }
   }
  },
  {
   "cell_type": "code",
   "execution_count": null,
   "outputs": [],
   "source": [
    "np.random.seed(100)\n",
    "learning_rate = 0.001\n",
    "training_epochs = 1000\n",
    "reg_lambda = 0.\n",
    "@tf.function\n",
    "def minimize_func(x, y, w):\n",
    "    pred = 0\n",
    "    for i in range(num_coeffs):\n",
    "        # тут что то сломано и я не понимаю что\n",
    "        pred += w[i] * tf.math.pow(x, i)\n",
    "    error = tf.square(y - pred) + reg_lambda * tf.math.reduce_sum(tf.square(w))\n",
    "    return error"
   ],
   "metadata": {
    "collapsed": false,
    "pycharm": {
     "name": "#%%\n"
    }
   }
  },
  {
   "cell_type": "code",
   "execution_count": null,
   "outputs": [],
   "source": [],
   "metadata": {
    "collapsed": false,
    "pycharm": {
     "name": "#%%\n"
    }
   }
  }
 ],
 "metadata": {
  "kernelspec": {
   "display_name": "Python 3",
   "language": "python",
   "name": "python3"
  },
  "language_info": {
   "codemirror_mode": {
    "name": "ipython",
    "version": 3
   },
   "file_extension": ".py",
   "mimetype": "text/x-python",
   "name": "python",
   "nbconvert_exporter": "python",
   "pygments_lexer": "ipython3",
   "version": "3.8.7"
  }
 },
 "nbformat": 4,
 "nbformat_minor": 1
}